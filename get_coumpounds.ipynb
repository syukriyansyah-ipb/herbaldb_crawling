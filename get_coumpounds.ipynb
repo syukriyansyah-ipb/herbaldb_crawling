{
 "cells": [
  {
   "cell_type": "code",
   "execution_count": null,
   "metadata": {},
   "outputs": [],
   "source": [
    "from bs4 import BeautifulSoup\n",
    "import requests\n",
    "import numpy as np\n",
    "import pandas as pd"
   ]
  },
  {
   "cell_type": "code",
   "execution_count": null,
   "metadata": {},
   "outputs": [],
   "source": [
    "plant = pd.read_csv(\"plants_herbaldb_df\", sep=\";\")\n",
    "plant_compound_herbaldb = []\n",
    "for plant in plant[\"id\"]:\n",
    "   url = requests.get('http://herbaldb.farmasi.ui.ac.id/v3/popdetails.php?speciesid='+plant)\n",
    "      \n",
    "   response = BeautifulSoup(url.content, 'html.parser')\n",
    "   response_table = response.find_all(\"table\")\n",
    "\n",
    "   if len(response_table) >= 4:\n",
    "      compound_table_html = response_table[4]\n",
    "\n",
    "      # get tr\n",
    "      compound_table_tr = compound_table_html.find_all(\"tr\")\n",
    "      if len(compound_table_tr) != 2:\n",
    "         for i in range(len(compound_table_tr)):\n",
    "            data_tmp = []\n",
    "            data_tmp.append(plant)\n",
    "            compound_table_td = compound_table_tr[i].find_all(\"td\")\n",
    "            for j in compound_table_td:\n",
    "               if i != 0:\n",
    "                  data_tmp.append(j.get_text())\n",
    "            if i != 0:\n",
    "               plant_compound_herbaldb.append(data_tmp)\n",
    "\n",
    "# convert to dataframe\n",
    "columns = ['plantId', 'no', 'compound', 'knapsackId', 'metaboliteId', 'pubchemId', 'reference', 'status', 'aksi']\n",
    "plant_compound_herbaldb_df = pd.DataFrame(plant_compound_herbaldb, columns=columns)\n",
    "\n",
    "# export plant - compound herbal db\n",
    "plant_compound_herbaldb_df = plant_compound_herbaldb_df[['plantId', 'compound', 'knapsackId', 'metaboliteId', 'pubchemId', 'reference']]\n",
    "plant_compound_herbaldb_df.to_csv(\"plant_compound_herbaldb.csv\", sep=\";\")\n",
    "\n",
    "# get compound data from plant compound herbaldb dataframe\n",
    "compound_herbaldb_df = plant_compound_herbaldb_df[['compound', 'knapsackId', 'metaboliteId', 'pubchemId', 'reference']]\n",
    "compound_herbaldb_df = compound_herbaldb_df.drop_duplicates()\n",
    "compound_herbaldb_df.to_csv(\"compound_herbaldb.csv\", sep=\";\")\n",
    "\n",
    "print(\"\\n==== SUMMARY PLANT-COUMPOUND ====\")\n",
    "print(\"\\nHerbaldb Plant-Compound Pairs: \")\n",
    "print(plant_compound_herbaldb_df.head())\n",
    "\n",
    "print(\"\\nHerbaldb Compound : \")\n",
    "print(compound_herbaldb_df.head())\n",
    "print(\"\\n\\nCount Herbaldb Plant Compound Pairs : \", len(plant_compound_herbaldb_df))\n",
    "print(\"Count Herbaldb Compounds: \", len(compound_herbaldb_df))"
   ]
  }
 ],
 "metadata": {
  "language_info": {
   "name": "python"
  },
  "orig_nbformat": 4
 },
 "nbformat": 4,
 "nbformat_minor": 2
}
