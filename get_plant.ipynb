{
 "cells": [
  {
   "cell_type": "code",
   "execution_count": 2,
   "metadata": {},
   "outputs": [],
   "source": [
    "from bs4 import BeautifulSoup\n",
    "import requests\n",
    "import numpy as np\n",
    "import pandas as pd"
   ]
  },
  {
   "cell_type": "code",
   "execution_count": 3,
   "metadata": {},
   "outputs": [
    {
     "name": "stdout",
     "output_type": "stream",
     "text": [
      "=== SUMMARY ===\n",
      "Count plants :  3810\n",
      "Count plants + drop duplicate :  3810\n",
      "Count of family plants:  240\n"
     ]
    }
   ],
   "source": [
    "\n",
    "plants_herbaldb = []\n",
    "plants_pages = 191\n",
    "# plants_pages\n",
    "for i in range(plants_pages):\n",
    "   if i == 0:\n",
    "      url = requests.get('http://herbaldb.farmasi.ui.ac.id/v3/index.php?v=spesies')\n",
    "   else:\n",
    "      url = requests.get('http://herbaldb.farmasi.ui.ac.id/v3/index.php?v=spesies&sortby=&start='+str(i))\n",
    "   \n",
    "   plants_soup = BeautifulSoup(url.content, 'html.parser')\n",
    "   plants_soup_table = plants_soup.find_all(\"table\")\n",
    "\n",
    "   # get last table in html structure\n",
    "   for i in range(len(plants_soup_table)):\n",
    "      if i == 2:\n",
    "         plants_table_html = plants_soup_table[i]\n",
    "   \n",
    "   # get tr\n",
    "   plants_table_tr = plants_table_html.find_all(\"tr\")\n",
    "\n",
    "   for i in range(len(plants_table_tr)):\n",
    "      data_tmp = []\n",
    "      plants_table_td = plants_table_tr[i].find_all(\"td\")\n",
    "      for j in plants_table_td:\n",
    "         if i != 0:\n",
    "            data_tmp.append(j.get_text())\n",
    "      if i != 0:\n",
    "         plants_herbaldb.append(data_tmp)\n",
    "\n",
    "\n",
    "# convert to dataframe\n",
    "columns = ['no', 'id', 'species', 'varietas', 'family', 'penemu', 'referensi', 'status', 'aksi']\n",
    "plants_herbaldb_df = pd.DataFrame(plants_herbaldb, columns=columns)\n",
    "plants_herbaldb_df = plants_herbaldb_df[[\"id\", 'species', 'varietas', 'family', 'penemu', 'referensi']]\n",
    "\n",
    "# export\n",
    "plants_herbaldb_df.to_csv(\"plant_herbaldb.csv\", sep=\";\")\n",
    "\n",
    "# summary\n",
    "print(\"=== SUMMARY ===\")\n",
    "print(\"Count plants : \", len(plants_herbaldb_df))\n",
    "print(\"Count plants + drop duplicate : \", len(plants_herbaldb_df.drop_duplicates()))\n",
    "print(\"Count of family plants: \", len(plants_herbaldb_df[\"family\"].drop_duplicates()))"
   ]
  }
 ],
 "metadata": {
  "kernelspec": {
   "display_name": "Python 3",
   "language": "python",
   "name": "python3"
  },
  "language_info": {
   "codemirror_mode": {
    "name": "ipython",
    "version": 3
   },
   "file_extension": ".py",
   "mimetype": "text/x-python",
   "name": "python",
   "nbconvert_exporter": "python",
   "pygments_lexer": "ipython3",
   "version": "3.11.0"
  },
  "orig_nbformat": 4
 },
 "nbformat": 4,
 "nbformat_minor": 2
}
